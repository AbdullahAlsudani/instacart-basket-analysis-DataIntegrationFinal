{
  "nbformat": 4,
  "nbformat_minor": 0,
  "metadata": {
    "colab": {
      "provenance": []
    },
    "kernelspec": {
      "name": "python3",
      "display_name": "Python 3"
    },
    "language_info": {
      "name": "python"
    }
  },
  "cells": [
    {
      "cell_type": "markdown",
      "source": [
        "#**Instacart Market Basket Analysis**\n",
        "\n",
        "\n",
        "###**Introduction**\n",
        "\n",
        "The retail industry has lately seen a big tranformation with the availability of the vast amounts of data , providing companies new oppurtunities to understand and analyze customer behavior imrove sales strategies , enhance product availability and optimize inventory with accordance to findings.\n",
        "We explore the Instacart Market Basket Analysis Dataset which contains information on millions of grocery orders plaved by Instacart customers.\n",
        "\n",
        "The primary goal of this project is to analyze customer shopping behavior and product relationships to provide helpful recommendations for inventory management , customer engagement , derive meaningful insights that can be used to improve product availabilty , customer retention and sales strategies.\n",
        "\n",
        "####**Tools and Technologies Used:**\n",
        "**1.** Apache Hadoop (HDFS & MapReduce):\n",
        "\n",
        "- Hadoop Distributed File System (HDFS):\n",
        "was used to store enriched dataset in a distributed fashion , providing scalability and fault tolerance. This allowed us to manage large datasets without running into memory and capacity limitations.\n",
        "\n",
        "- MapReduce:\n",
        "We used 'mrjob' python library to implement a MapReduce job that counted product orders. This approach helped us understand the distribution of product popularity across millions of transactions.\n",
        "\n",
        "**2.** Apache Spark:\n",
        "\n",
        "- PySpark: A python interface for Apache Spark was used to data integration , enrichment and analysis.\n",
        "\n",
        "\n",
        "####**Dataset Overview:**\n",
        "\n",
        "The Instacart Market Basket Dataste consists of 7 CSV files , each providing different information on products and customer transactions:\n",
        "\n",
        "\n",
        "- Aisles(aisles.csv): Contains information about different aisles , this helps categorize products.\n",
        "\n",
        "- Departments(departments.csv): Provides department-level categorization for products such as \"produce\" or \"bakery\".\n",
        "\n",
        "- Order Products Prior(order_products_prior.csv): Details the products included in prior orders , this is curcial for analyzin customer purchase history.\n",
        "\n",
        "- Order Products Train(order_products_train.csv): Contains training data for product orders which can be used for training models to predict future orders.\n",
        "\n",
        "- Products(products.csv): Information about each and evey product such as product id, name , aisle and department.\n",
        "\n",
        "- Orders(orders.csv): Details about customer orders such as order ID , user ID, order number , and time details (day of the week and hour).\n",
        "\n",
        "- Sample Submission(sample_submission.csv): This (primarily used)file provides a sample format for submission in the context of predictive modelling.\n",
        "\n",
        "\n",
        "\n",
        "**Link to Datastes:** https://www.kaggle.com/competitions/instacart-market-basket-analysis/overview"
      ],
      "metadata": {
        "id": "Mtn_wc3lsLrL"
      }
    },
    {
      "cell_type": "markdown",
      "source": [
        "####**1- loading the data into pyspark**\n",
        "\n",
        "\n"
      ],
      "metadata": {
        "id": "ixC-aFR1FOXa"
      }
    },
    {
      "cell_type": "code",
      "execution_count": 3,
      "metadata": {
        "colab": {
          "base_uri": "https://localhost:8080/"
        },
        "id": "aTBThg6uCUOd",
        "outputId": "7be0910a-3aec-4ff7-839d-3869c310291e"
      },
      "outputs": [
        {
          "output_type": "stream",
          "name": "stdout",
          "text": [
            "Requirement already satisfied: pyspark in /usr/local/lib/python3.10/dist-packages (3.5.3)\n",
            "Requirement already satisfied: py4j==0.10.9.7 in /usr/local/lib/python3.10/dist-packages (from pyspark) (0.10.9.7)\n"
          ]
        }
      ],
      "source": [
        "!pip install pyspark\n",
        "from pyspark.sql import SparkSession\n",
        "\n",
        "# start a spark session\n",
        "spark = SparkSession.builder.master(\"local[*]\").appName(\"InstacartAnalysis\").getOrCreate()\n",
        "\n",
        "# Load CSVs into Spark DataFrames\n",
        "aisles_spark = spark.read.csv('/content/aisles.csv', header=True, inferSchema=True)\n",
        "departments_spark = spark.read.csv('/content/departments.csv', header=True, inferSchema=True)\n",
        "order_products_prior_spark = spark.read.csv('/content/order_products__prior.csv', header=True, inferSchema=True)\n",
        "order_products_train_spark = spark.read.csv('/content/order_products__train.csv', header=True, inferSchema=True)\n",
        "orders_spark = spark.read.csv('/content/orders.csv', header=True, inferSchema=True)\n",
        "products_spark = spark.read.csv('/content/products.csv', header=True, inferSchema=True)\n",
        "\n"
      ]
    },
    {
      "cell_type": "markdown",
      "source": [
        "####**2** - **Data Exploration to understand the relationship between the datasets.**\n",
        "\n",
        "#####  -  **Aisles**\n",
        "- Columns : aisle_id , aisle\n",
        "- Objective : Understand the aisles within the store to which product belongs."
      ],
      "metadata": {
        "id": "WMKAgbTRJVnF"
      }
    },
    {
      "cell_type": "code",
      "source": [
        "# aisles\n",
        "\n",
        "from pyspark.sql import functions as F\n",
        "\n",
        "print(f\"Number of Unique Aisles : {aisles_spark.select('aisle').distinct().count()}\")\n",
        "print(aisles_spark.groupBy('aisle').count().orderBy(F.desc('count')).head(10))"
      ],
      "metadata": {
        "colab": {
          "base_uri": "https://localhost:8080/"
        },
        "id": "RaadjghzJhki",
        "outputId": "e1db8836-000a-4e19-a039-636b8fdd29c4"
      },
      "execution_count": 4,
      "outputs": [
        {
          "output_type": "stream",
          "name": "stdout",
          "text": [
            "Number of Unique Aisles : 134\n",
            "[Row(aisle='bulk dried fruits vegetables', count=1), Row(aisle='refrigerated', count=1), Row(aisle='soy lactosefree', count=1), Row(aisle='instant foods', count=1), Row(aisle='trail mix snack mix', count=1), Row(aisle='trash bags liners', count=1), Row(aisle='fresh fruits', count=1), Row(aisle='asian foods', count=1), Row(aisle='hair care', count=1), Row(aisle='beers coolers', count=1)]\n"
          ]
        }
      ]
    },
    {
      "cell_type": "markdown",
      "source": [
        "#####  -  **Departments**\n",
        "\n",
        "- Columns : department_id , department\n",
        "- Objective : Understand the departments within the store."
      ],
      "metadata": {
        "id": "1KDVw129L8PO"
      }
    },
    {
      "cell_type": "code",
      "source": [
        "# departments\n",
        "print(f\"Number of unique departments: {departments_spark.select('department').distinct().count()}\")\n",
        "print(departments_spark.groupBy('department').count().orderBy(F.desc('count')).show(10))"
      ],
      "metadata": {
        "colab": {
          "base_uri": "https://localhost:8080/"
        },
        "id": "cxh6G-kNEdb0",
        "outputId": "08ddaa45-c846-43db-8416-720176e80e7f"
      },
      "execution_count": 5,
      "outputs": [
        {
          "output_type": "stream",
          "name": "stdout",
          "text": [
            "Number of unique departments: 21\n",
            "+---------------+-----+\n",
            "|     department|count|\n",
            "+---------------+-----+\n",
            "|      beverages|    1|\n",
            "|   meat seafood|    1|\n",
            "|         frozen|    1|\n",
            "|           deli|    1|\n",
            "|dry goods pasta|    1|\n",
            "|           bulk|    1|\n",
            "|          other|    1|\n",
            "|         babies|    1|\n",
            "|         bakery|    1|\n",
            "|        produce|    1|\n",
            "+---------------+-----+\n",
            "only showing top 10 rows\n",
            "\n",
            "None\n"
          ]
        }
      ]
    },
    {
      "cell_type": "markdown",
      "source": [
        "#####  -  **Products**\n",
        "\n",
        "- Columns : product_id , product_name , aisle_id , department_id\n",
        "- Objective : Product information that connects to both aisle_id and department_id."
      ],
      "metadata": {
        "id": "ibaORpRGM6wM"
      }
    },
    {
      "cell_type": "code",
      "source": [
        "# number of products and their categories\n",
        "import pandas as pd\n",
        "products = pd.read_csv('products.csv')\n",
        "\n",
        "print(f\"Total number of products: {products['product_id'].nunique()}\")\n",
        "print(products[['aisle_id', 'department_id']].nunique())\n",
        "\n",
        "# top products by name occurance\n",
        "\n",
        "print(products['product_name'].value_counts().head(10))\n"
      ],
      "metadata": {
        "colab": {
          "base_uri": "https://localhost:8080/"
        },
        "id": "tj2U0yVBNlb6",
        "outputId": "617a1ff9-bd90-4a1b-8767-8f09cb96d2bd"
      },
      "execution_count": 6,
      "outputs": [
        {
          "output_type": "stream",
          "name": "stdout",
          "text": [
            "Total number of products: 49688\n",
            "aisle_id         134\n",
            "department_id     21\n",
            "dtype: int64\n",
            "product_name\n",
            "Chocolate Sandwich Cookies                          1\n",
            "Black Raspberry Water                               1\n",
            "Organic Egg Whites                                  1\n",
            "Oikos Yogurt Drink, Strawberry                      1\n",
            "Peanut Butter Dark Chocolate Protein Chewy Bars     1\n",
            "Pop Corn, White                                     1\n",
            "Healthy Kids Organic Chocolate Nutritional Shake    1\n",
            "Organic Mini Cheddar Cheese Crackers                1\n",
            "Sesame Flatbread                                    1\n",
            "No Salt Roasted Pistachios                          1\n",
            "Name: count, dtype: int64\n"
          ]
        }
      ]
    },
    {
      "cell_type": "markdown",
      "source": [
        "#####  -  **Orders and Product Orders**\n",
        "\n",
        "- Columns : order_id , product_id , add_to_cart_order , reordered\n",
        "- Objective : Represents products within each order , including add_to_cart_order and whether they were reordered."
      ],
      "metadata": {
        "id": "-O2Q-KxiOiyn"
      }
    },
    {
      "cell_type": "code",
      "source": [
        "# prior and train datasets\n",
        "import pandas as pd\n",
        "\n",
        "order_products_prior = pd.read_csv('order_products__prior.csv')\n",
        "order_products_prior = pd.read_csv('order_products__train.csv')\n",
        "\n",
        "print(f\"Total number of order-product pairs (prior): {order_products_prior.shape[0]}\")\n",
        "print(f\"Total number of order-product pairs (train): {order_products_prior.shape[0]}\")\n",
        "\n",
        "\n",
        "# the frequence of reordered products\n",
        "\n",
        "print(order_products_prior['reordered'].value_counts(normalize=True))\n",
        "\n",
        "# top ordered products in prior dataset\n",
        "\n",
        "top_prior_products = order_products_prior['product_id'].value_counts().head(10)\n",
        "print(f\"Top ordered products in prior dataset:\\n{top_prior_products}\")"
      ],
      "metadata": {
        "colab": {
          "base_uri": "https://localhost:8080/"
        },
        "id": "T6-l3RBqN5lS",
        "outputId": "4303e1c5-4e5d-4ff6-d232-c133bc81a5d3"
      },
      "execution_count": 7,
      "outputs": [
        {
          "output_type": "stream",
          "name": "stdout",
          "text": [
            "Total number of order-product pairs (prior): 1384617\n",
            "Total number of order-product pairs (train): 1384617\n",
            "reordered\n",
            "1    0.598594\n",
            "0    0.401406\n",
            "Name: proportion, dtype: float64\n",
            "Top ordered products in prior dataset:\n",
            "product_id\n",
            "24852    18726\n",
            "13176    15480\n",
            "21137    10894\n",
            "21903     9784\n",
            "47626     8135\n",
            "47766     7409\n",
            "47209     7293\n",
            "16797     6494\n",
            "26209     6033\n",
            "27966     5546\n",
            "Name: count, dtype: int64\n"
          ]
        }
      ]
    },
    {
      "cell_type": "markdown",
      "source": [
        "#####  -  **Orders**\n",
        "\n",
        "- Columns : order_id , user_id , eval_set , order_number , order_dow , order_hour_of_the_day , days_since_prior_order .\n",
        "\n",
        "- Objective : Insights about individual orders such as user_id when it occured and in which evaluation set it belongs (prior , train or test)"
      ],
      "metadata": {
        "id": "1un_Q4EHQ8Qj"
      }
    },
    {
      "cell_type": "code",
      "source": [
        "# check distribution of eval_set\n",
        "\n",
        "import pandas as pd\n",
        "orders = pd.read_csv('orders.csv')\n",
        "print(orders['eval_set'].value_counts())\n",
        "\n",
        "# distributions of orders by day of the week and hour of the day\n",
        "\n",
        "orders_by_dow = orders['order_dow'].value_counts().sort_index()\n",
        "orders_by_hour = orders['order_hour_of_day'].value_counts().sort_index()\n",
        "\n",
        "# import necessary libraries\n",
        "\n",
        "import matplotlib.pyplot as plt\n",
        "import seaborn as sns\n",
        "\n",
        "# plot distribution by day of week\n",
        "\n",
        "plt.figure(figsize=(10,5))\n",
        "sns.barplot(x=orders_by_dow.index, y=orders_by_dow.values, palette ='magma')\n",
        "plt.title('Orders by Day of the Week')\n",
        "plt.xlabel('Day of Week (0 =Sunday)')\n",
        "plt.ylabel('Number of Orders')\n",
        "plt.show()\n",
        "\n",
        "# plot distribution by day of week\n",
        "\n",
        "plt.figure(figsize=(10,5))\n",
        "sns.barplot(x=orders_by_dow.index, y=orders_by_dow.values, palette ='magma')\n",
        "plt.title('Orders by Hour of the Day')\n",
        "plt.xlabel('Hour of the Day')\n",
        "plt.ylabel('Number of Orders')\n",
        "plt.show()"
      ],
      "metadata": {
        "colab": {
          "base_uri": "https://localhost:8080/",
          "height": 1000
        },
        "id": "aiQKnKWbRjc0",
        "outputId": "b8a8ca66-3977-466a-e917-8911f4c12aa3"
      },
      "execution_count": 8,
      "outputs": [
        {
          "output_type": "stream",
          "name": "stdout",
          "text": [
            "eval_set\n",
            "prior    3214874\n",
            "train     131209\n",
            "test       75000\n",
            "Name: count, dtype: int64\n"
          ]
        },
        {
          "output_type": "stream",
          "name": "stderr",
          "text": [
            "<ipython-input-8-c608e50db7c7>:20: FutureWarning: \n",
            "\n",
            "Passing `palette` without assigning `hue` is deprecated and will be removed in v0.14.0. Assign the `x` variable to `hue` and set `legend=False` for the same effect.\n",
            "\n",
            "  sns.barplot(x=orders_by_dow.index, y=orders_by_dow.values, palette ='magma')\n",
            "/usr/local/lib/python3.10/dist-packages/seaborn/_base.py:949: FutureWarning: When grouping with a length-1 list-like, you will need to pass a length-1 tuple to get_group in a future version of pandas. Pass `(name,)` instead of `name` to silence this warning.\n",
            "  data_subset = grouped_data.get_group(pd_key)\n",
            "/usr/local/lib/python3.10/dist-packages/seaborn/_base.py:949: FutureWarning: When grouping with a length-1 list-like, you will need to pass a length-1 tuple to get_group in a future version of pandas. Pass `(name,)` instead of `name` to silence this warning.\n",
            "  data_subset = grouped_data.get_group(pd_key)\n",
            "/usr/local/lib/python3.10/dist-packages/seaborn/_base.py:949: FutureWarning: When grouping with a length-1 list-like, you will need to pass a length-1 tuple to get_group in a future version of pandas. Pass `(name,)` instead of `name` to silence this warning.\n",
            "  data_subset = grouped_data.get_group(pd_key)\n",
            "/usr/local/lib/python3.10/dist-packages/seaborn/_base.py:949: FutureWarning: When grouping with a length-1 list-like, you will need to pass a length-1 tuple to get_group in a future version of pandas. Pass `(name,)` instead of `name` to silence this warning.\n",
            "  data_subset = grouped_data.get_group(pd_key)\n",
            "/usr/local/lib/python3.10/dist-packages/seaborn/_base.py:949: FutureWarning: When grouping with a length-1 list-like, you will need to pass a length-1 tuple to get_group in a future version of pandas. Pass `(name,)` instead of `name` to silence this warning.\n",
            "  data_subset = grouped_data.get_group(pd_key)\n",
            "/usr/local/lib/python3.10/dist-packages/seaborn/_base.py:949: FutureWarning: When grouping with a length-1 list-like, you will need to pass a length-1 tuple to get_group in a future version of pandas. Pass `(name,)` instead of `name` to silence this warning.\n",
            "  data_subset = grouped_data.get_group(pd_key)\n",
            "/usr/local/lib/python3.10/dist-packages/seaborn/_base.py:949: FutureWarning: When grouping with a length-1 list-like, you will need to pass a length-1 tuple to get_group in a future version of pandas. Pass `(name,)` instead of `name` to silence this warning.\n",
            "  data_subset = grouped_data.get_group(pd_key)\n"
          ]
        },
        {
          "output_type": "display_data",
          "data": {
            "text/plain": [
              "<Figure size 1000x500 with 1 Axes>"
            ],
            "image/png": "[encoded data removed]"
          },
          "metadata": {}
        },
        {
          "output_type": "stream",
          "name": "stderr",
          "text": [
            "<ipython-input-8-c608e50db7c7>:29: FutureWarning: \n",
            "\n",
            "Passing `palette` without assigning `hue` is deprecated and will be removed in v0.14.0. Assign the `x` variable to `hue` and set `legend=False` for the same effect.\n",
            "\n",
            "  sns.barplot(x=orders_by_dow.index, y=orders_by_dow.values, palette ='magma')\n",
            "/usr/local/lib/python3.10/dist-packages/seaborn/_base.py:949: FutureWarning: When grouping with a length-1 list-like, you will need to pass a length-1 tuple to get_group in a future version of pandas. Pass `(name,)` instead of `name` to silence this warning.\n",
            "  data_subset = grouped_data.get_group(pd_key)\n",
            "/usr/local/lib/python3.10/dist-packages/seaborn/_base.py:949: FutureWarning: When grouping with a length-1 list-like, you will need to pass a length-1 tuple to get_group in a future version of pandas. Pass `(name,)` instead of `name` to silence this warning.\n",
            "  data_subset = grouped_data.get_group(pd_key)\n",
            "/usr/local/lib/python3.10/dist-packages/seaborn/_base.py:949: FutureWarning: When grouping with a length-1 list-like, you will need to pass a length-1 tuple to get_group in a future version of pandas. Pass `(name,)` instead of `name` to silence this warning.\n",
            "  data_subset = grouped_data.get_group(pd_key)\n",
            "/usr/local/lib/python3.10/dist-packages/seaborn/_base.py:949: FutureWarning: When grouping with a length-1 list-like, you will need to pass a length-1 tuple to get_group in a future version of pandas. Pass `(name,)` instead of `name` to silence this warning.\n",
            "  data_subset = grouped_data.get_group(pd_key)\n",
            "/usr/local/lib/python3.10/dist-packages/seaborn/_base.py:949: FutureWarning: When grouping with a length-1 list-like, you will need to pass a length-1 tuple to get_group in a future version of pandas. Pass `(name,)` instead of `name` to silence this warning.\n",
            "  data_subset = grouped_data.get_group(pd_key)\n",
            "/usr/local/lib/python3.10/dist-packages/seaborn/_base.py:949: FutureWarning: When grouping with a length-1 list-like, you will need to pass a length-1 tuple to get_group in a future version of pandas. Pass `(name,)` instead of `name` to silence this warning.\n",
            "  data_subset = grouped_data.get_group(pd_key)\n",
            "/usr/local/lib/python3.10/dist-packages/seaborn/_base.py:949: FutureWarning: When grouping with a length-1 list-like, you will need to pass a length-1 tuple to get_group in a future version of pandas. Pass `(name,)` instead of `name` to silence this warning.\n",
            "  data_subset = grouped_data.get_group(pd_key)\n"
          ]
        },
        {
          "output_type": "display_data",
          "data": {
            "text/plain": [
              "<Figure size 1000x500 with 1 Axes>"
            ],
            "image/png": "[encoded data removed]"
          },
          "metadata": {}
        }
      ]
    },
    {
      "cell_type": "markdown",
      "source": [
        "####**3 - Understanding Relationships Between Datasets :**\n",
        "\n",
        "**1. Relationships :**\n",
        "- The products datasets connects to aisles and departments using aisle_id and department_id.\n",
        "- The order_products_prior and order_products_train datasets link orders (order_id) with products (product_id).\n",
        "- The orders dataset provides user-level information and context for each other.\n",
        "- Products and Orders : Adds to order_products_prior and order_products_train details from products (product_name , aisle , department).\n",
        "- Orders and Users : Links orders_products_prior and order_products_train with orders to provide context about each order , such as user ID , order timing and frequency."
      ],
      "metadata": {
        "id": "zEcfgMe2v7g-"
      }
    },
    {
      "cell_type": "markdown",
      "source": [
        "**2. Exploration Queries :**\n"
      ],
      "metadata": {
        "id": "BVYCzMJHyw_j"
      }
    },
    {
      "cell_type": "code",
      "source": [
        "# re-order rate\n",
        "\n",
        "reorder_rate = order_products_prior['reordered'].mean()\n",
        "print(f\"Reorder Rate : {reorder_rate: .2f}\")"
      ],
      "metadata": {
        "id": "A_OP83MeTYL2",
        "colab": {
          "base_uri": "https://localhost:8080/"
        },
        "outputId": "505ea3e9-0fbb-439f-a17e-5c61ae516e8c"
      },
      "execution_count": 9,
      "outputs": [
        {
          "output_type": "stream",
          "name": "stdout",
          "text": [
            "Reorder Rate :  0.60\n"
          ]
        }
      ]
    },
    {
      "cell_type": "code",
      "source": [
        "# customer loyalty , unique customers and orders per customer\n",
        "\n",
        "from IPython.display import display, HTML\n",
        "\n",
        "unique_users = orders['user_id'].nunique()\n",
        "avg_orders_per_user = orders.groupby('user_id')['order_number'].max().mean()\n",
        "print(\"Total unique users: \", end=\"\")\n",
        "display(HTML(f'<span style=\"color: green; font-weight: normal;\">{unique_users}</span>'))\n",
        "print(\"Average number of orders per user: \", end=\"\")\n",
        "display(HTML(f'<span style=\"color: green; font-weight: normal;\">{avg_orders_per_user:.2f}</span>'))"
      ],
      "metadata": {
        "colab": {
          "base_uri": "https://localhost:8080/",
          "height": 86
        },
        "id": "z5PyuGUDzRoM",
        "outputId": "2eaa9fd4-94b7-48e4-eb11-c6b30381a2f4"
      },
      "execution_count": 10,
      "outputs": [
        {
          "output_type": "stream",
          "name": "stdout",
          "text": [
            "Total unique users: "
          ]
        },
        {
          "output_type": "display_data",
          "data": {
            "text/plain": [
              "<IPython.core.display.HTML object>"
            ],
            "text/html": [
              "<span style=\"color: green; font-weight: normal;\">206209</span>"
            ]
          },
          "metadata": {}
        },
        {
          "output_type": "stream",
          "name": "stdout",
          "text": [
            "Average number of orders per user: "
          ]
        },
        {
          "output_type": "display_data",
          "data": {
            "text/plain": [
              "<IPython.core.display.HTML object>"
            ],
            "text/html": [
              "<span style=\"color: green; font-weight: normal;\">16.59</span>"
            ]
          },
          "metadata": {}
        }
      ]
    },
    {
      "cell_type": "code",
      "source": [
        "from IPython.display import display, HTML\n",
        "\n",
        "# Calculate metrics\n",
        "unique_users = orders['user_id'].nunique()\n",
        "avg_orders_per_user = orders.groupby('user_id')['order_number'].max().mean()\n",
        "\n",
        "print(\"Total Unique Users: \", end=\"\")\n",
        "display(HTML(f'<span style=\"color: green; font-weight: normal;\">{unique_users}</span>'))\n",
        "\n",
        "print(\"Average Number of Orders Per User: \", end=\"\")\n",
        "display(HTML(f'<span style=\"color: green; font-weight: normal;\">{avg_orders_per_user:.2f}</span>'))\n"
      ],
      "metadata": {
        "colab": {
          "base_uri": "https://localhost:8080/",
          "height": 86
        },
        "id": "KWP88acO0IVJ",
        "outputId": "4a8001da-3fda-4179-8227-5353abd67350"
      },
      "execution_count": 11,
      "outputs": [
        {
          "output_type": "stream",
          "name": "stdout",
          "text": [
            "Total Unique Users: "
          ]
        },
        {
          "output_type": "display_data",
          "data": {
            "text/plain": [
              "<IPython.core.display.HTML object>"
            ],
            "text/html": [
              "<span style=\"color: green; font-weight: normal;\">206209</span>"
            ]
          },
          "metadata": {}
        },
        {
          "output_type": "stream",
          "name": "stdout",
          "text": [
            "Average Number of Orders Per User: "
          ]
        },
        {
          "output_type": "display_data",
          "data": {
            "text/plain": [
              "<IPython.core.display.HTML object>"
            ],
            "text/html": [
              "<span style=\"color: green; font-weight: normal;\">16.59</span>"
            ]
          },
          "metadata": {}
        }
      ]
    },
    {
      "cell_type": "markdown",
      "source": [
        "####**4 - Data Merging :**\n",
        "**The integration process includes the following steps :**\n",
        "\n",
        "1. Merging Product Information with Aisles and Departments.\n",
        "2. Combine Order Product Details with Product Information.\n",
        "3. Add User-Level Order Info.\n",
        "4. Export Cleaned Data."
      ],
      "metadata": {
        "id": "adQWkkAF3EB-"
      }
    },
    {
      "cell_type": "code",
      "source": [
        "# merge products with aisles and departments\n",
        "\n",
        "products_full_spark = products_spark.join(aisles_spark, on='aisle_id', how='left') \\\n",
        "    .join(departments_spark, on='department_id', how='left')\n",
        "\n",
        "# display results\n",
        "\n",
        "print(products_full_spark.head())"
      ],
      "metadata": {
        "colab": {
          "base_uri": "https://localhost:8080/"
        },
        "id": "WYaqmrHs0suq",
        "outputId": "50570891-ec22-43bc-d4bd-1b9bde45235b"
      },
      "execution_count": 12,
      "outputs": [
        {
          "output_type": "stream",
          "name": "stdout",
          "text": [
            "Row(department_id='19', aisle_id='61', product_id=1, product_name='Chocolate Sandwich Cookies', aisle='cookies cakes', department='snacks')\n"
          ]
        }
      ]
    },
    {
      "cell_type": "markdown",
      "source": [
        "****Explanation:****\n",
        "\n",
        "- This merge enhances each product by including the aisle and department it is associated with.\n",
        "- The how='left' ensures that all rows from products dataset are retained with relevant information added from aisles and department."
      ],
      "metadata": {
        "id": "rFTpDQMq4sk6"
      }
    },
    {
      "cell_type": "code",
      "source": [
        "# convert products_full_spark to pandas DataFrame as its too small for pyspark\n",
        "products_full_pandas = products_full_spark.toPandas()\n",
        "\n",
        "# merge order product details with product information\n",
        "order_products_prior_full = order_products_prior.merge(products_full_pandas, on= 'product_id', how='left') # Use products_full_pandas\n",
        "order_products_prior_full = order_products_prior.merge(products_full_pandas, on='product_id', how ='left') # Use products_full_pandas and correct variable name\n",
        "\n",
        "# display results\n",
        "print(order_products_prior_full.head())\n",
        "print(order_products_prior_full.head())"
      ],
      "metadata": {
        "colab": {
          "base_uri": "https://localhost:8080/"
        },
        "id": "wI6cfCnV4oOy",
        "outputId": "b7309102-4a47-4703-cecd-2ca5711fae00"
      },
      "execution_count": 13,
      "outputs": [
        {
          "output_type": "stream",
          "name": "stdout",
          "text": [
            "   order_id  product_id  add_to_cart_order  reordered department_id aisle_id  \\\n",
            "0         1       49302                  1          1            16      120   \n",
            "1         1       11109                  2          1            16      108   \n",
            "2         1       10246                  3          0             4       83   \n",
            "3         1       49683                  4          0             4       83   \n",
            "4         1       43633                  5          1            15       95   \n",
            "\n",
            "                                    product_name                 aisle  \\\n",
            "0                               Bulgarian Yogurt                yogurt   \n",
            "1  Organic 4% Milk Fat Whole Milk Cottage Cheese  other creams cheeses   \n",
            "2                          Organic Celery Hearts      fresh vegetables   \n",
            "3                                 Cucumber Kirby      fresh vegetables   \n",
            "4           Lightly Smoked Sardines in Olive Oil   canned meat seafood   \n",
            "\n",
            "     department  \n",
            "0    dairy eggs  \n",
            "1    dairy eggs  \n",
            "2       produce  \n",
            "3       produce  \n",
            "4  canned goods  \n",
            "   order_id  product_id  add_to_cart_order  reordered department_id aisle_id  \\\n",
            "0         1       49302                  1          1            16      120   \n",
            "1         1       11109                  2          1            16      108   \n",
            "2         1       10246                  3          0             4       83   \n",
            "3         1       49683                  4          0             4       83   \n",
            "4         1       43633                  5          1            15       95   \n",
            "\n",
            "                                    product_name                 aisle  \\\n",
            "0                               Bulgarian Yogurt                yogurt   \n",
            "1  Organic 4% Milk Fat Whole Milk Cottage Cheese  other creams cheeses   \n",
            "2                          Organic Celery Hearts      fresh vegetables   \n",
            "3                                 Cucumber Kirby      fresh vegetables   \n",
            "4           Lightly Smoked Sardines in Olive Oil   canned meat seafood   \n",
            "\n",
            "     department  \n",
            "0    dairy eggs  \n",
            "1    dairy eggs  \n",
            "2       produce  \n",
            "3       produce  \n",
            "4  canned goods  \n"
          ]
        }
      ]
    },
    {
      "cell_type": "markdown",
      "source": [
        "****Explanation:****\n",
        "\n",
        "- By merging order_products_prior and order_products_train with products_full each order gets linked to product details.\n",
        "- This gives us detailed information like product_name , aisle and department for each order."
      ],
      "metadata": {
        "id": "7KUF82NE6Vv8"
      }
    },
    {
      "source": [
        "# merge order_products_prior_full and order_products_train_full with orders to enrich with user information\n",
        "import pandas as pd\n",
        "order_products_prior_enriched = order_products_prior_full.merge(orders, on='order_id', how='left')\n",
        "\n",
        "# create order_products_train_full by merging order_products_prior with products_full_pandas\n",
        "order_products_train_full = order_products_prior.merge(products_full_pandas, on='product_id', how ='left') # Changed order_products_train to order_products_prior\n",
        "\n",
        "order_products_train_enriched = order_products_train_full.merge(orders, on='order_id', how='left')\n",
        "\n",
        "# display enriched datasets to verify\n",
        "print(order_products_prior_enriched.head())\n",
        "print(order_products_train_enriched.head())"
      ],
      "cell_type": "code",
      "metadata": {
        "colab": {
          "base_uri": "https://localhost:8080/"
        },
        "id": "_em6XPXEInmE",
        "outputId": "2a1ba02b-f3ea-46ed-fdd5-07c12273d274"
      },
      "execution_count": 14,
      "outputs": [
        {
          "output_type": "stream",
          "name": "stdout",
          "text": [
            "   order_id  product_id  add_to_cart_order  reordered department_id aisle_id  \\\n",
            "0         1       49302                  1          1            16      120   \n",
            "1         1       11109                  2          1            16      108   \n",
            "2         1       10246                  3          0             4       83   \n",
            "3         1       49683                  4          0             4       83   \n",
            "4         1       43633                  5          1            15       95   \n",
            "\n",
            "                                    product_name                 aisle  \\\n",
            "0                               Bulgarian Yogurt                yogurt   \n",
            "1  Organic 4% Milk Fat Whole Milk Cottage Cheese  other creams cheeses   \n",
            "2                          Organic Celery Hearts      fresh vegetables   \n",
            "3                                 Cucumber Kirby      fresh vegetables   \n",
            "4           Lightly Smoked Sardines in Olive Oil   canned meat seafood   \n",
            "\n",
            "     department  user_id eval_set  order_number  order_dow  order_hour_of_day  \\\n",
            "0    dairy eggs   112108    train             4          4                 10   \n",
            "1    dairy eggs   112108    train             4          4                 10   \n",
            "2       produce   112108    train             4          4                 10   \n",
            "3       produce   112108    train             4          4                 10   \n",
            "4  canned goods   112108    train             4          4                 10   \n",
            "\n",
            "   days_since_prior_order  \n",
            "0                     9.0  \n",
            "1                     9.0  \n",
            "2                     9.0  \n",
            "3                     9.0  \n",
            "4                     9.0  \n",
            "   order_id  product_id  add_to_cart_order  reordered department_id aisle_id  \\\n",
            "0         1       49302                  1          1            16      120   \n",
            "1         1       11109                  2          1            16      108   \n",
            "2         1       10246                  3          0             4       83   \n",
            "3         1       49683                  4          0             4       83   \n",
            "4         1       43633                  5          1            15       95   \n",
            "\n",
            "                                    product_name                 aisle  \\\n",
            "0                               Bulgarian Yogurt                yogurt   \n",
            "1  Organic 4% Milk Fat Whole Milk Cottage Cheese  other creams cheeses   \n",
            "2                          Organic Celery Hearts      fresh vegetables   \n",
            "3                                 Cucumber Kirby      fresh vegetables   \n",
            "4           Lightly Smoked Sardines in Olive Oil   canned meat seafood   \n",
            "\n",
            "     department  user_id eval_set  order_number  order_dow  order_hour_of_day  \\\n",
            "0    dairy eggs   112108    train             4          4                 10   \n",
            "1    dairy eggs   112108    train             4          4                 10   \n",
            "2       produce   112108    train             4          4                 10   \n",
            "3       produce   112108    train             4          4                 10   \n",
            "4  canned goods   112108    train             4          4                 10   \n",
            "\n",
            "   days_since_prior_order  \n",
            "0                     9.0  \n",
            "1                     9.0  \n",
            "2                     9.0  \n",
            "3                     9.0  \n",
            "4                     9.0  \n"
          ]
        }
      ]
    },
    {
      "cell_type": "markdown",
      "source": [
        "****Explanation:****\n",
        "\n",
        "- This step adds information such as user_id , order_dow (day of the week), order_hour_of_day and days_since_prior_order.\n",
        "- This enriched datasets (order_products_prior_enriched and order_products_train_enriched) provide a comprehensive view of each order , including user behavior , product details and purchase time."
      ],
      "metadata": {
        "id": "Sqrz5AZI7nW7"
      }
    },
    {
      "cell_type": "markdown",
      "source": [
        "####**5 - Handling Missing Values :**\n",
        "\n",
        "- During Data exploration , i've noticed that the days_since_prior_order column contains 'NaN' values , especially for the first order of a user , this will be replaced with a '0' to indicate \"no prev order\"."
      ],
      "metadata": {
        "id": "8N8RTNyi8hpL"
      }
    },
    {
      "cell_type": "code",
      "source": [
        "# fill missing values in 'days_since_prior_order'\n",
        "\n",
        "order_products_prior_enriched['days_since_prior_order'].fillna(0, inplace=True)\n",
        "order_products_train_enriched['days_since_prior_order'].fillna(0, inplace=True)\n",
        "\n",
        "# verify if there are any remaining missing values\n",
        "\n",
        "print(order_products_prior_enriched.isnull().sum())\n",
        "print(order_products_train_enriched.isnull().sum())"
      ],
      "metadata": {
        "colab": {
          "base_uri": "https://localhost:8080/"
        },
        "id": "t4_AswEM9GYo",
        "outputId": "6ba071a3-d38d-42a0-b3a3-3e0be1eeb3ad"
      },
      "execution_count": 15,
      "outputs": [
        {
          "output_type": "stream",
          "name": "stderr",
          "text": [
            "<ipython-input-15-e67a17ca8596>:3: FutureWarning: A value is trying to be set on a copy of a DataFrame or Series through chained assignment using an inplace method.\n",
            "The behavior will change in pandas 3.0. This inplace method will never work because the intermediate object on which we are setting values always behaves as a copy.\n",
            "\n",
            "For example, when doing 'df[col].method(value, inplace=True)', try using 'df.method({col: value}, inplace=True)' or df[col] = df[col].method(value) instead, to perform the operation inplace on the original object.\n",
            "\n",
            "\n",
            "  order_products_prior_enriched['days_since_prior_order'].fillna(0, inplace=True)\n",
            "<ipython-input-15-e67a17ca8596>:4: FutureWarning: A value is trying to be set on a copy of a DataFrame or Series through chained assignment using an inplace method.\n",
            "The behavior will change in pandas 3.0. This inplace method will never work because the intermediate object on which we are setting values always behaves as a copy.\n",
            "\n",
            "For example, when doing 'df[col].method(value, inplace=True)', try using 'df.method({col: value}, inplace=True)' or df[col] = df[col].method(value) instead, to perform the operation inplace on the original object.\n",
            "\n",
            "\n",
            "  order_products_train_enriched['days_since_prior_order'].fillna(0, inplace=True)\n"
          ]
        },
        {
          "output_type": "stream",
          "name": "stdout",
          "text": [
            "order_id                  0\n",
            "product_id                0\n",
            "add_to_cart_order         0\n",
            "reordered                 0\n",
            "department_id             0\n",
            "aisle_id                  0\n",
            "product_name              0\n",
            "aisle                     0\n",
            "department                0\n",
            "user_id                   0\n",
            "eval_set                  0\n",
            "order_number              0\n",
            "order_dow                 0\n",
            "order_hour_of_day         0\n",
            "days_since_prior_order    0\n",
            "dtype: int64\n",
            "order_id                  0\n",
            "product_id                0\n",
            "add_to_cart_order         0\n",
            "reordered                 0\n",
            "department_id             0\n",
            "aisle_id                  0\n",
            "product_name              0\n",
            "aisle                     0\n",
            "department                0\n",
            "user_id                   0\n",
            "eval_set                  0\n",
            "order_number              0\n",
            "order_dow                 0\n",
            "order_hour_of_day         0\n",
            "days_since_prior_order    0\n",
            "dtype: int64\n"
          ]
        }
      ]
    },
    {
      "cell_type": "markdown",
      "source": [
        "####**6 - Data Validation and Duplicates-Check :**"
      ],
      "metadata": {
        "id": "Jh92lm5h-W4f"
      }
    },
    {
      "cell_type": "code",
      "source": [
        "# drop duplicates if the exist\n",
        "\n",
        "order_products_prior_enriched.drop_duplicates(inplace=True)\n",
        "order_products_train_enriched.drop_duplicates(inplace=True)\n",
        "\n",
        "# verify the shape of data after dropping duplicates\n",
        "\n",
        "print(order_products_prior_enriched.shape)\n",
        "print(order_products_prior_enriched.shape)"
      ],
      "metadata": {
        "colab": {
          "base_uri": "https://localhost:8080/"
        },
        "id": "Zflwlote95BD",
        "outputId": "df081341-aeed-49f2-9b15-96201648a883"
      },
      "execution_count": 16,
      "outputs": [
        {
          "output_type": "stream",
          "name": "stdout",
          "text": [
            "(1384617, 15)\n",
            "(1384617, 15)\n"
          ]
        }
      ]
    },
    {
      "source": [
        "# drop duplicates if they exist in Spark DataFrames\n",
        "\n",
        "!pip install pyspark\n",
        "from pyspark.sql import SparkSession\n",
        "spark = SparkSession.builder.appName(\"MyApp\").getOrCreate()\n",
        "\n",
        "# convert Pandas DataFrames to Spark DataFrames\n",
        "order_products_prior_enriched_spark = spark.createDataFrame(order_products_prior_enriched)\n",
        "order_products_train_enriched_spark = spark.createDataFrame(order_products_train_enriched)\n",
        "\n",
        "order_products_prior_enriched_spark = order_products_prior_enriched_spark.dropDuplicates()\n",
        "order_products_train_enriched_spark = order_products_train_enriched_spark.dropDuplicates()\n",
        "\n",
        "# verify the number of rows and columns after dropping duplicates\n",
        "prior_rows = order_products_prior_enriched_spark.count()\n",
        "train_rows = order_products_train_enriched_spark.count()\n",
        "prior_columns = len(order_products_prior_enriched_spark.columns)\n",
        "train_columns = len(order_products_train_enriched_spark.columns)\n",
        "\n",
        "# print the shape of the data (number of rows and columns)\n",
        "print(f\"Order Products Prior Enriched: {prior_rows} rows, {prior_columns} columns\")\n",
        "print(f\"Order Products Train Enriched: {train_rows} rows, {train_columns} columns\")"
      ],
      "cell_type": "code",
      "metadata": {
        "colab": {
          "base_uri": "https://localhost:8080/"
        },
        "id": "wn6u8pSiJkTS",
        "outputId": "6d979d2b-06fa-4681-c7fc-41a94a746849"
      },
      "execution_count": 17,
      "outputs": [
        {
          "output_type": "stream",
          "name": "stdout",
          "text": [
            "Requirement already satisfied: pyspark in /usr/local/lib/python3.10/dist-packages (3.5.3)\n",
            "Requirement already satisfied: py4j==0.10.9.7 in /usr/local/lib/python3.10/dist-packages (from pyspark) (0.10.9.7)\n",
            "Order Products Prior Enriched: 1384617 rows, 15 columns\n",
            "Order Products Train Enriched: 1384617 rows, 15 columns\n"
          ]
        }
      ]
    },
    {
      "cell_type": "code",
      "source": [
        "# most popular products\n",
        "\n",
        "from pyspark.sql import functions as F\n",
        "\n",
        "popular_products = order_products_prior_enriched_spark.groupBy(\"product_name\").agg(F.count(\"*\").alias(\"order_count\"))\n",
        "popular_products = popular_products.orderBy(F.desc(\"order_count\"))\n",
        "popular_products.show(10)\n"
      ],
      "metadata": {
        "colab": {
          "base_uri": "https://localhost:8080/"
        },
        "id": "YrQlKHNFLnaP",
        "outputId": "82350ec2-17fa-4346-8ff6-08a8525be233"
      },
      "execution_count": 18,
      "outputs": [
        {
          "output_type": "stream",
          "name": "stdout",
          "text": [
            "+--------------------+-----------+\n",
            "|        product_name|order_count|\n",
            "+--------------------+-----------+\n",
            "|              Banana|      18726|\n",
            "|Bag of Organic Ba...|      15480|\n",
            "|Organic Strawberries|      10894|\n",
            "|Organic Baby Spinach|       9784|\n",
            "|         Large Lemon|       8135|\n",
            "|     Organic Avocado|       7409|\n",
            "|Organic Hass Avocado|       7293|\n",
            "|        Strawberries|       6494|\n",
            "|               Limes|       6033|\n",
            "| Organic Raspberries|       5546|\n",
            "+--------------------+-----------+\n",
            "only showing top 10 rows\n",
            "\n"
          ]
        }
      ]
    },
    {
      "cell_type": "markdown",
      "source": [
        "**Visualization Description:** The top 10 most ordered products represented by their product ID and order counts."
      ],
      "metadata": {
        "id": "qbXlNcti2QTS"
      }
    },
    {
      "cell_type": "code",
      "source": [
        "# number of orders per customer\n",
        "customer_orders = orders_spark.groupBy(\"user_id\").agg(F.count(\"order_id\").alias(\"total_orders\"))\n",
        "\n",
        "# identify high-frequency customers\n",
        "high_freq_customers = customer_orders.filter(customer_orders[\"total_orders\"] > 10)\n",
        "high_freq_customers.show(10)\n"
      ],
      "metadata": {
        "colab": {
          "base_uri": "https://localhost:8080/"
        },
        "id": "bzL_7f61pij0",
        "outputId": "6b817138-7b88-495f-c77c-15727a27178d"
      },
      "execution_count": 33,
      "outputs": [
        {
          "output_type": "stream",
          "name": "stdout",
          "text": [
            "+-------+------------+\n",
            "|user_id|total_orders|\n",
            "+-------+------------+\n",
            "|    496|          83|\n",
            "|    833|          12|\n",
            "|   1088|          16|\n",
            "|   1238|          30|\n",
            "|   2122|          11|\n",
            "|   2142|          14|\n",
            "|   2366|          31|\n",
            "|   2659|          18|\n",
            "|   2866|          38|\n",
            "|   3749|          27|\n",
            "+-------+------------+\n",
            "only showing top 10 rows\n",
            "\n"
          ]
        }
      ]
    },
    {
      "cell_type": "code",
      "source": [
        "# orderrs by day of the week\n",
        "orders_per_day = order_products_prior_enriched_spark.groupBy(\"order_dow\").count()\n",
        "orders_per_day = orders_per_day.orderBy(\"order_dow\")\n",
        "orders_per_day.show()\n",
        "\n",
        "# orders by hours of the day\n",
        "orders_per_hour = order_products_prior_enriched_spark.groupBy(\"order_hour_of_day\").count()\n",
        "orders_per_hour = orders_per_hour.orderBy(\"order_hour_of_day\")\n",
        "orders_per_hour.show()\n"
      ],
      "metadata": {
        "colab": {
          "base_uri": "https://localhost:8080/"
        },
        "id": "CYCRMfDYLxyT",
        "outputId": "39323541-dd42-469e-801c-b79366ca77b4"
      },
      "execution_count": 19,
      "outputs": [
        {
          "output_type": "stream",
          "name": "stdout",
          "text": [
            "+---------+------+\n",
            "|order_dow| count|\n",
            "+---------+------+\n",
            "|        0|324026|\n",
            "|        1|205978|\n",
            "|        2|160562|\n",
            "|        3|154381|\n",
            "|        4|155481|\n",
            "|        5|176910|\n",
            "|        6|207279|\n",
            "+---------+------+\n",
            "\n",
            "+-----------------+------+\n",
            "|order_hour_of_day| count|\n",
            "+-----------------+------+\n",
            "|                0|  9083|\n",
            "|                1|  5626|\n",
            "|                2|  3226|\n",
            "|                3|  2438|\n",
            "|                4|  2431|\n",
            "|                5|  3847|\n",
            "|                6| 11847|\n",
            "|                7| 36302|\n",
            "|                8| 67386|\n",
            "|                9| 93856|\n",
            "|               10|110479|\n",
            "|               11|114119|\n",
            "|               12|111752|\n",
            "|               13|114762|\n",
            "|               14|119370|\n",
            "|               15|116198|\n",
            "|               16|110237|\n",
            "|               17| 96944|\n",
            "|               18| 76522|\n",
            "|               19| 58175|\n",
            "+-----------------+------+\n",
            "only showing top 20 rows\n",
            "\n"
          ]
        }
      ]
    },
    {
      "cell_type": "code",
      "source": [
        "# convert to Pandas for visualization\n",
        "\n",
        "orders_per_day_pandas = orders_per_day.toPandas()\n",
        "\n",
        "# plot the data using matplotlib / seaborn\n",
        "\n",
        "import matplotlib.pyplot as pl\n",
        "import seaborn as sns\n",
        "\n",
        "plt.figure(figsize=(10, 6))\n",
        "sns.barplot(x=orders_per_day_pandas['order_dow'], y=orders_per_day_pandas['count'], palette='viridis')\n",
        "plt.title('Orders by Day of the Week')\n",
        "plt.xlabel('Day of Week (0 =Sunday)')\n",
        "plt.ylabel('Number of Orders')\n",
        "plt.show()\n"
      ],
      "metadata": {
        "colab": {
          "base_uri": "https://localhost:8080/",
          "height": 914
        },
        "id": "JaLrACvBMLZV",
        "outputId": "5b796a23-177a-4309-ff03-d2c4c34c4db0"
      },
      "execution_count": 20,
      "outputs": [
        {
          "output_type": "stream",
          "name": "stderr",
          "text": [
            "<ipython-input-20-6282b030e5ed>:11: FutureWarning: \n",
            "\n",
            "Passing `palette` without assigning `hue` is deprecated and will be removed in v0.14.0. Assign the `x` variable to `hue` and set `legend=False` for the same effect.\n",
            "\n",
            "  sns.barplot(x=orders_per_day_pandas['order_dow'], y=orders_per_day_pandas['count'], palette='viridis')\n",
            "/usr/local/lib/python3.10/dist-packages/seaborn/_base.py:949: FutureWarning: When grouping with a length-1 list-like, you will need to pass a length-1 tuple to get_group in a future version of pandas. Pass `(name,)` instead of `name` to silence this warning.\n",
            "  data_subset = grouped_data.get_group(pd_key)\n",
            "/usr/local/lib/python3.10/dist-packages/seaborn/_base.py:949: FutureWarning: When grouping with a length-1 list-like, you will need to pass a length-1 tuple to get_group in a future version of pandas. Pass `(name,)` instead of `name` to silence this warning.\n",
            "  data_subset = grouped_data.get_group(pd_key)\n",
            "/usr/local/lib/python3.10/dist-packages/seaborn/_base.py:949: FutureWarning: When grouping with a length-1 list-like, you will need to pass a length-1 tuple to get_group in a future version of pandas. Pass `(name,)` instead of `name` to silence this warning.\n",
            "  data_subset = grouped_data.get_group(pd_key)\n",
            "/usr/local/lib/python3.10/dist-packages/seaborn/_base.py:949: FutureWarning: When grouping with a length-1 list-like, you will need to pass a length-1 tuple to get_group in a future version of pandas. Pass `(name,)` instead of `name` to silence this warning.\n",
            "  data_subset = grouped_data.get_group(pd_key)\n",
            "/usr/local/lib/python3.10/dist-packages/seaborn/_base.py:949: FutureWarning: When grouping with a length-1 list-like, you will need to pass a length-1 tuple to get_group in a future version of pandas. Pass `(name,)` instead of `name` to silence this warning.\n",
            "  data_subset = grouped_data.get_group(pd_key)\n",
            "/usr/local/lib/python3.10/dist-packages/seaborn/_base.py:949: FutureWarning: When grouping with a length-1 list-like, you will need to pass a length-1 tuple to get_group in a future version of pandas. Pass `(name,)` instead of `name` to silence this warning.\n",
            "  data_subset = grouped_data.get_group(pd_key)\n",
            "/usr/local/lib/python3.10/dist-packages/seaborn/_base.py:949: FutureWarning: When grouping with a length-1 list-like, you will need to pass a length-1 tuple to get_group in a future version of pandas. Pass `(name,)` instead of `name` to silence this warning.\n",
            "  data_subset = grouped_data.get_group(pd_key)\n"
          ]
        },
        {
          "output_type": "display_data",
          "data": {
            "text/plain": [
              "<Figure size 1000x600 with 1 Axes>"
            ],
            "image/png": "[encoded data removed]"
          },
          "metadata": {}
        }
      ]
    },
    {
      "cell_type": "markdown",
      "source": [
        "**Visualization Description:** Days which have higher order volumes , Saturdays have the highest number of orders."
      ],
      "metadata": {
        "id": "ClG_emEH23lC"
      }
    },
    {
      "cell_type": "code",
      "source": [
        "# most popular products and orders by hour\n",
        "\n",
        "from pyspark.sql import functions as F\n",
        "\n",
        "popular_products = order_products_prior_enriched_spark.groupBy(\"product_name\").agg(F.count(\"*\").alias(\"order_count\"))\n",
        "popular_products = popular_products.orderBy(F.desc(\"order_count\")).limit(10)\n",
        "\n",
        "# convert the result to Pandas for visualization\n",
        "\n",
        "popular_products_pandas = popular_products.toPandas()\n",
        "\n",
        "# plot using matplotlib or seaborn\n",
        "import matplotlib.pyplot as plt\n",
        "import seaborn as sns\n",
        "\n",
        "plt.figure(figsize=(12, 8))\n",
        "sns.barplot(x=popular_products_pandas['order_count'], y=popular_products_pandas['product_name'], palette='viridis')\n",
        "plt.title('Top 10 Most Popular Products')\n",
        "plt.xlabel('Number of Orders')\n",
        "plt.ylabel('Product Name')\n",
        "plt.tight_layout()\n",
        "plt.show()\n"
      ],
      "metadata": {
        "colab": {
          "base_uri": "https://localhost:8080/",
          "height": 1000
        },
        "id": "A4ExchA5M8fN",
        "outputId": "05f5a114-23e3-4a39-c25e-43baa7f1bb7a"
      },
      "execution_count": 21,
      "outputs": [
        {
          "output_type": "stream",
          "name": "stderr",
          "text": [
            "<ipython-input-21-65b4062a3435>:17: FutureWarning: \n",
            "\n",
            "Passing `palette` without assigning `hue` is deprecated and will be removed in v0.14.0. Assign the `y` variable to `hue` and set `legend=False` for the same effect.\n",
            "\n",
            "  sns.barplot(x=popular_products_pandas['order_count'], y=popular_products_pandas['product_name'], palette='viridis')\n",
            "/usr/local/lib/python3.10/dist-packages/seaborn/_base.py:949: FutureWarning: When grouping with a length-1 list-like, you will need to pass a length-1 tuple to get_group in a future version of pandas. Pass `(name,)` instead of `name` to silence this warning.\n",
            "  data_subset = grouped_data.get_group(pd_key)\n",
            "/usr/local/lib/python3.10/dist-packages/seaborn/_base.py:949: FutureWarning: When grouping with a length-1 list-like, you will need to pass a length-1 tuple to get_group in a future version of pandas. Pass `(name,)` instead of `name` to silence this warning.\n",
            "  data_subset = grouped_data.get_group(pd_key)\n",
            "/usr/local/lib/python3.10/dist-packages/seaborn/_base.py:949: FutureWarning: When grouping with a length-1 list-like, you will need to pass a length-1 tuple to get_group in a future version of pandas. Pass `(name,)` instead of `name` to silence this warning.\n",
            "  data_subset = grouped_data.get_group(pd_key)\n",
            "/usr/local/lib/python3.10/dist-packages/seaborn/_base.py:949: FutureWarning: When grouping with a length-1 list-like, you will need to pass a length-1 tuple to get_group in a future version of pandas. Pass `(name,)` instead of `name` to silence this warning.\n",
            "  data_subset = grouped_data.get_group(pd_key)\n",
            "/usr/local/lib/python3.10/dist-packages/seaborn/_base.py:949: FutureWarning: When grouping with a length-1 list-like, you will need to pass a length-1 tuple to get_group in a future version of pandas. Pass `(name,)` instead of `name` to silence this warning.\n",
            "  data_subset = grouped_data.get_group(pd_key)\n",
            "/usr/local/lib/python3.10/dist-packages/seaborn/_base.py:949: FutureWarning: When grouping with a length-1 list-like, you will need to pass a length-1 tuple to get_group in a future version of pandas. Pass `(name,)` instead of `name` to silence this warning.\n",
            "  data_subset = grouped_data.get_group(pd_key)\n",
            "/usr/local/lib/python3.10/dist-packages/seaborn/_base.py:949: FutureWarning: When grouping with a length-1 list-like, you will need to pass a length-1 tuple to get_group in a future version of pandas. Pass `(name,)` instead of `name` to silence this warning.\n",
            "  data_subset = grouped_data.get_group(pd_key)\n",
            "/usr/local/lib/python3.10/dist-packages/seaborn/_base.py:949: FutureWarning: When grouping with a length-1 list-like, you will need to pass a length-1 tuple to get_group in a future version of pandas. Pass `(name,)` instead of `name` to silence this warning.\n",
            "  data_subset = grouped_data.get_group(pd_key)\n",
            "/usr/local/lib/python3.10/dist-packages/seaborn/_base.py:949: FutureWarning: When grouping with a length-1 list-like, you will need to pass a length-1 tuple to get_group in a future version of pandas. Pass `(name,)` instead of `name` to silence this warning.\n",
            "  data_subset = grouped_data.get_group(pd_key)\n",
            "/usr/local/lib/python3.10/dist-packages/seaborn/_base.py:949: FutureWarning: When grouping with a length-1 list-like, you will need to pass a length-1 tuple to get_group in a future version of pandas. Pass `(name,)` instead of `name` to silence this warning.\n",
            "  data_subset = grouped_data.get_group(pd_key)\n"
          ]
        },
        {
          "output_type": "display_data",
          "data": {
            "text/plain": [
              "<Figure size 1200x800 with 1 Axes>"
            ],
            "image/png": "[encoded data removed]"
          },
          "metadata": {}
        }
      ]
    },
    {
      "cell_type": "code",
      "source": [
        "# Save the enriched Spark DataFrames as CSV files for further use\n",
        "order_products_prior_enriched_spark.write.csv('/content/enriched_order_products_prior_spark.csv', header=True , mode=\"overwrite\")\n",
        "order_products_train_enriched_spark.write.csv('/content/enriched_order_products_train_spark.csv', header=True , mode=\"overwrite\")\n"
      ],
      "metadata": {
        "id": "rw2EOFRFPS53"
      },
      "execution_count": 22,
      "outputs": []
    },
    {
      "cell_type": "code",
      "source": [
        "# combine all part files into a single CSV for downloading\n",
        "!cat /content/enriched_order_products_prior_spark.csv/part-* > /content/enriched_order_products_prior.csv\n",
        "!cat /content/enriched_order_products_train_spark.csv/part-* > /content/enriched_order_products_train.csv"
      ],
      "metadata": {
        "id": "HtenO2lgQP7O"
      },
      "execution_count": 23,
      "outputs": []
    },
    {
      "cell_type": "code",
      "source": [
        "from google.colab import files\n",
        "\n",
        "# Download the combined CSV files\n",
        "files.download('/content/enriched_order_products_prior.csv')\n",
        "files.download('/content/enriched_order_products_train.csv')\n"
      ],
      "metadata": {
        "colab": {
          "base_uri": "https://localhost:8080/",
          "height": 17
        },
        "id": "XFLginCfQYBV",
        "outputId": "8569607b-d033-4dfb-9b9e-15d402a533cc"
      },
      "execution_count": 24,
      "outputs": [
        {
          "output_type": "display_data",
          "data": {
            "text/plain": [
              "<IPython.core.display.Javascript object>"
            ],
            "application/javascript": [
              "\n",
              "    async function download(id, filename, size) {\n",
              "      if (!google.colab.kernel.accessAllowed) {\n",
              "        return;\n",
              "      }\n",
              "      const div = document.createElement('div');\n",
              "      const label = document.createElement('label');\n",
              "      label.textContent = `Downloading \"${filename}\": `;\n",
              "      div.appendChild(label);\n",
              "      const progress = document.createElement('progress');\n",
              "      progress.max = size;\n",
              "      div.appendChild(progress);\n",
              "      document.body.appendChild(div);\n",
              "\n",
              "      const buffers = [];\n",
              "      let downloaded = 0;\n",
              "\n",
              "      const channel = await google.colab.kernel.comms.open(id);\n",
              "      // Send a message to notify the kernel that we're ready.\n",
              "      channel.send({})\n",
              "\n",
              "      for await (const message of channel.messages) {\n",
              "        // Send a message to notify the kernel that we're ready.\n",
              "        channel.send({})\n",
              "        if (message.buffers) {\n",
              "          for (const buffer of message.buffers) {\n",
              "            buffers.push(buffer);\n",
              "            downloaded += buffer.byteLength;\n",
              "            progress.value = downloaded;\n",
              "          }\n",
              "        }\n",
              "      }\n",
              "      const blob = new Blob(buffers, {type: 'application/binary'});\n",
              "      const a = document.createElement('a');\n",
              "      a.href = window.URL.createObjectURL(blob);\n",
              "      a.download = filename;\n",
              "      div.appendChild(a);\n",
              "      a.click();\n",
              "      div.remove();\n",
              "    }\n",
              "  "
            ]
          },
          "metadata": {}
        },
        {
          "output_type": "display_data",
          "data": {
            "text/plain": [
              "<IPython.core.display.Javascript object>"
            ],
            "application/javascript": [
              "download(\"download_ac2841ae-374b-42b3-9f92-ca37cadd4686\", \"enriched_order_products_prior.csv\", 136569779)"
            ]
          },
          "metadata": {}
        },
        {
          "output_type": "display_data",
          "data": {
            "text/plain": [
              "<IPython.core.display.Javascript object>"
            ],
            "application/javascript": [
              "\n",
              "    async function download(id, filename, size) {\n",
              "      if (!google.colab.kernel.accessAllowed) {\n",
              "        return;\n",
              "      }\n",
              "      const div = document.createElement('div');\n",
              "      const label = document.createElement('label');\n",
              "      label.textContent = `Downloading \"${filename}\": `;\n",
              "      div.appendChild(label);\n",
              "      const progress = document.createElement('progress');\n",
              "      progress.max = size;\n",
              "      div.appendChild(progress);\n",
              "      document.body.appendChild(div);\n",
              "\n",
              "      const buffers = [];\n",
              "      let downloaded = 0;\n",
              "\n",
              "      const channel = await google.colab.kernel.comms.open(id);\n",
              "      // Send a message to notify the kernel that we're ready.\n",
              "      channel.send({})\n",
              "\n",
              "      for await (const message of channel.messages) {\n",
              "        // Send a message to notify the kernel that we're ready.\n",
              "        channel.send({})\n",
              "        if (message.buffers) {\n",
              "          for (const buffer of message.buffers) {\n",
              "            buffers.push(buffer);\n",
              "            downloaded += buffer.byteLength;\n",
              "            progress.value = downloaded;\n",
              "          }\n",
              "        }\n",
              "      }\n",
              "      const blob = new Blob(buffers, {type: 'application/binary'});\n",
              "      const a = document.createElement('a');\n",
              "      a.href = window.URL.createObjectURL(blob);\n",
              "      a.download = filename;\n",
              "      div.appendChild(a);\n",
              "      a.click();\n",
              "      div.remove();\n",
              "    }\n",
              "  "
            ]
          },
          "metadata": {}
        },
        {
          "output_type": "display_data",
          "data": {
            "text/plain": [
              "<IPython.core.display.Javascript object>"
            ],
            "application/javascript": [
              "download(\"download_2487e822-8ccf-41ca-88b8-7c37e8f1fca9\", \"enriched_order_products_train.csv\", 136569779)"
            ]
          },
          "metadata": {}
        }
      ]
    },
    {
      "cell_type": "markdown",
      "source": [
        "#### **Hadoop MapReduce**\n",
        "\n",
        "Hadoop HDFS was used to store enriched datasets to ensure scalability and fault tolerance ,  the enriched files (enriched_order_products_prior.csv) and\n",
        " (enriched_order_products_train.csv) were uploaded to HDFS, enabling us to handle large volumes of data in a distributed manner.\n",
        "\n",
        "Hadoop MapReduce was used to perform operations such as counting product orders using the mrjob library.\n",
        "\n",
        "We accessed hadoop namenode using docker which was configured to run Hadoop services like namenode, datanode , resourcemanager and nodemanager."
      ],
      "metadata": {
        "id": "Y8iyhQVNYgGl"
      }
    },
    {
      "cell_type": "code",
      "source": [
        "# preview data\n",
        "\n",
        "import pandas as pd\n",
        "\n",
        "data = pd.read_csv('product_counts_output.txt', sep=\"\\t\", header=None, names=[\"Product ID\", \"Count\"])\n",
        "\n",
        "data.head()"
      ],
      "metadata": {
        "colab": {
          "base_uri": "https://localhost:8080/",
          "height": 206
        },
        "id": "9oPvEPFFYxFB",
        "outputId": "fb87851d-8e6d-48a8-cf4b-3d06171ff4df"
      },
      "execution_count": 25,
      "outputs": [
        {
          "output_type": "execute_result",
          "data": {
            "text/plain": [
              "   Product ID  Count\n",
              "0           1     76\n",
              "1          10    119\n",
              "2         100     20\n",
              "3        1000     87\n",
              "4       10000      2"
            ],
            "text/html": [
              "\n",
              "  <div id=\"df-926ef35f-e12e-4d5c-8512-e80f3fc9ce44\" class=\"colab-df-container\">\n",
              "    <div>\n",
              "<style scoped>\n",
              "    .dataframe tbody tr th:only-of-type {\n",
              "        vertical-align: middle;\n",
              "    }\n",
              "\n",
              "    .dataframe tbody tr th {\n",
              "        vertical-align: top;\n",
              "    }\n",
              "\n",
              "    .dataframe thead th {\n",
              "        text-align: right;\n",
              "    }\n",
              "</style>\n",
              "<table border=\"1\" class=\"dataframe\">\n",
              "  <thead>\n",
              "    <tr style=\"text-align: right;\">\n",
              "      <th></th>\n",
              "      <th>Product ID</th>\n",
              "      <th>Count</th>\n",
              "    </tr>\n",
              "  </thead>\n",
              "  <tbody>\n",
              "    <tr>\n",
              "      <th>0</th>\n",
              "      <td>1</td>\n",
              "      <td>76</td>\n",
              "    </tr>\n",
              "    <tr>\n",
              "      <th>1</th>\n",
              "      <td>10</td>\n",
              "      <td>119</td>\n",
              "    </tr>\n",
              "    <tr>\n",
              "      <th>2</th>\n",
              "      <td>100</td>\n",
              "      <td>20</td>\n",
              "    </tr>\n",
              "    <tr>\n",
              "      <th>3</th>\n",
              "      <td>1000</td>\n",
              "      <td>87</td>\n",
              "    </tr>\n",
              "    <tr>\n",
              "      <th>4</th>\n",
              "      <td>10000</td>\n",
              "      <td>2</td>\n",
              "    </tr>\n",
              "  </tbody>\n",
              "</table>\n",
              "</div>\n",
              "    <div class=\"colab-df-buttons\">\n",
              "\n",
              "  <div class=\"colab-df-container\">\n",
              "    <button class=\"colab-df-convert\" onclick=\"convertToInteractive('df-926ef35f-e12e-4d5c-8512-e80f3fc9ce44')\"\n",
              "            title=\"Convert this dataframe to an interactive table.\"\n",
              "            style=\"display:none;\">\n",
              "\n",
              "  <svg xmlns=\"http://www.w3.org/2000/svg\" height=\"24px\" viewBox=\"0 -960 960 960\">\n",
              "    <path d=\"M120-120v-720h720v720H120Zm60-500h600v-160H180v160Zm220 220h160v-160H400v160Zm0 220h160v-160H400v160ZM180-400h160v-160H180v160Zm440 0h160v-160H620v160ZM180-180h160v-160H180v160Zm440 0h160v-160H620v160Z\"/>\n",
              "  </svg>\n",
              "    </button>\n",
              "\n",
              "  <style>\n",
              "    .colab-df-container {\n",
              "      display:flex;\n",
              "      gap: 12px;\n",
              "    }\n",
              "\n",
              "    .colab-df-convert {\n",
              "      background-color: #E8F0FE;\n",
              "      border: none;\n",
              "      border-radius: 50%;\n",
              "      cursor: pointer;\n",
              "      display: none;\n",
              "      fill: #1967D2;\n",
              "      height: 32px;\n",
              "      padding: 0 0 0 0;\n",
              "      width: 32px;\n",
              "    }\n",
              "\n",
              "    .colab-df-convert:hover {\n",
              "      background-color: #E2EBFA;\n",
              "      box-shadow: 0px 1px 2px rgba(60, 64, 67, 0.3), 0px 1px 3px 1px rgba(60, 64, 67, 0.15);\n",
              "      fill: #174EA6;\n",
              "    }\n",
              "\n",
              "    .colab-df-buttons div {\n",
              "      margin-bottom: 4px;\n",
              "    }\n",
              "\n",
              "    [theme=dark] .colab-df-convert {\n",
              "      background-color: #3B4455;\n",
              "      fill: #D2E3FC;\n",
              "    }\n",
              "\n",
              "    [theme=dark] .colab-df-convert:hover {\n",
              "      background-color: #434B5C;\n",
              "      box-shadow: 0px 1px 3px 1px rgba(0, 0, 0, 0.15);\n",
              "      filter: drop-shadow(0px 1px 2px rgba(0, 0, 0, 0.3));\n",
              "      fill: #FFFFFF;\n",
              "    }\n",
              "  </style>\n",
              "\n",
              "    <script>\n",
              "      const buttonEl =\n",
              "        document.querySelector('#df-926ef35f-e12e-4d5c-8512-e80f3fc9ce44 button.colab-df-convert');\n",
              "      buttonEl.style.display =\n",
              "        google.colab.kernel.accessAllowed ? 'block' : 'none';\n",
              "\n",
              "      async function convertToInteractive(key) {\n",
              "        const element = document.querySelector('#df-926ef35f-e12e-4d5c-8512-e80f3fc9ce44');\n",
              "        const dataTable =\n",
              "          await google.colab.kernel.invokeFunction('convertToInteractive',\n",
              "                                                    [key], {});\n",
              "        if (!dataTable) return;\n",
              "\n",
              "        const docLinkHtml = 'Like what you see? Visit the ' +\n",
              "          '<a target=\"_blank\" href=https://colab.research.google.com/notebooks/data_table.ipynb>data table notebook</a>'\n",
              "          + ' to learn more about interactive tables.';\n",
              "        element.innerHTML = '';\n",
              "        dataTable['output_type'] = 'display_data';\n",
              "        await google.colab.output.renderOutput(dataTable, element);\n",
              "        const docLink = document.createElement('div');\n",
              "        docLink.innerHTML = docLinkHtml;\n",
              "        element.appendChild(docLink);\n",
              "      }\n",
              "    </script>\n",
              "  </div>\n",
              "\n",
              "\n",
              "<div id=\"df-9922c132-479c-42f7-8a65-4338301cc49b\">\n",
              "  <button class=\"colab-df-quickchart\" onclick=\"quickchart('df-9922c132-479c-42f7-8a65-4338301cc49b')\"\n",
              "            title=\"Suggest charts\"\n",
              "            style=\"display:none;\">\n",
              "\n",
              "<svg xmlns=\"http://www.w3.org/2000/svg\" height=\"24px\"viewBox=\"0 0 24 24\"\n",
              "     width=\"24px\">\n",
              "    <g>\n",
              "        <path d=\"M19 3H5c-1.1 0-2 .9-2 2v14c0 1.1.9 2 2 2h14c1.1 0 2-.9 2-2V5c0-1.1-.9-2-2-2zM9 17H7v-7h2v7zm4 0h-2V7h2v10zm4 0h-2v-4h2v4z\"/>\n",
              "    </g>\n",
              "</svg>\n",
              "  </button>\n",
              "\n",
              "<style>\n",
              "  .colab-df-quickchart {\n",
              "      --bg-color: #E8F0FE;\n",
              "      --fill-color: #1967D2;\n",
              "      --hover-bg-color: #E2EBFA;\n",
              "      --hover-fill-color: #174EA6;\n",
              "      --disabled-fill-color: #AAA;\n",
              "      --disabled-bg-color: #DDD;\n",
              "  }\n",
              "\n",
              "  [theme=dark] .colab-df-quickchart {\n",
              "      --bg-color: #3B4455;\n",
              "      --fill-color: #D2E3FC;\n",
              "      --hover-bg-color: #434B5C;\n",
              "      --hover-fill-color: #FFFFFF;\n",
              "      --disabled-bg-color: #3B4455;\n",
              "      --disabled-fill-color: #666;\n",
              "  }\n",
              "\n",
              "  .colab-df-quickchart {\n",
              "    background-color: var(--bg-color);\n",
              "    border: none;\n",
              "    border-radius: 50%;\n",
              "    cursor: pointer;\n",
              "    display: none;\n",
              "    fill: var(--fill-color);\n",
              "    height: 32px;\n",
              "    padding: 0;\n",
              "    width: 32px;\n",
              "  }\n",
              "\n",
              "  .colab-df-quickchart:hover {\n",
              "    background-color: var(--hover-bg-color);\n",
              "    box-shadow: 0 1px 2px rgba(60, 64, 67, 0.3), 0 1px 3px 1px rgba(60, 64, 67, 0.15);\n",
              "    fill: var(--button-hover-fill-color);\n",
              "  }\n",
              "\n",
              "  .colab-df-quickchart-complete:disabled,\n",
              "  .colab-df-quickchart-complete:disabled:hover {\n",
              "    background-color: var(--disabled-bg-color);\n",
              "    fill: var(--disabled-fill-color);\n",
              "    box-shadow: none;\n",
              "  }\n",
              "\n",
              "  .colab-df-spinner {\n",
              "    border: 2px solid var(--fill-color);\n",
              "    border-color: transparent;\n",
              "    border-bottom-color: var(--fill-color);\n",
              "    animation:\n",
              "      spin 1s steps(1) infinite;\n",
              "  }\n",
              "\n",
              "  @keyframes spin {\n",
              "    0% {\n",
              "      border-color: transparent;\n",
              "      border-bottom-color: var(--fill-color);\n",
              "      border-left-color: var(--fill-color);\n",
              "    }\n",
              "    20% {\n",
              "      border-color: transparent;\n",
              "      border-left-color: var(--fill-color);\n",
              "      border-top-color: var(--fill-color);\n",
              "    }\n",
              "    30% {\n",
              "      border-color: transparent;\n",
              "      border-left-color: var(--fill-color);\n",
              "      border-top-color: var(--fill-color);\n",
              "      border-right-color: var(--fill-color);\n",
              "    }\n",
              "    40% {\n",
              "      border-color: transparent;\n",
              "      border-right-color: var(--fill-color);\n",
              "      border-top-color: var(--fill-color);\n",
              "    }\n",
              "    60% {\n",
              "      border-color: transparent;\n",
              "      border-right-color: var(--fill-color);\n",
              "    }\n",
              "    80% {\n",
              "      border-color: transparent;\n",
              "      border-right-color: var(--fill-color);\n",
              "      border-bottom-color: var(--fill-color);\n",
              "    }\n",
              "    90% {\n",
              "      border-color: transparent;\n",
              "      border-bottom-color: var(--fill-color);\n",
              "    }\n",
              "  }\n",
              "</style>\n",
              "\n",
              "  <script>\n",
              "    async function quickchart(key) {\n",
              "      const quickchartButtonEl =\n",
              "        document.querySelector('#' + key + ' button');\n",
              "      quickchartButtonEl.disabled = true;  // To prevent multiple clicks.\n",
              "      quickchartButtonEl.classList.add('colab-df-spinner');\n",
              "      try {\n",
              "        const charts = await google.colab.kernel.invokeFunction(\n",
              "            'suggestCharts', [key], {});\n",
              "      } catch (error) {\n",
              "        console.error('Error during call to suggestCharts:', error);\n",
              "      }\n",
              "      quickchartButtonEl.classList.remove('colab-df-spinner');\n",
              "      quickchartButtonEl.classList.add('colab-df-quickchart-complete');\n",
              "    }\n",
              "    (() => {\n",
              "      let quickchartButtonEl =\n",
              "        document.querySelector('#df-9922c132-479c-42f7-8a65-4338301cc49b button');\n",
              "      quickchartButtonEl.style.display =\n",
              "        google.colab.kernel.accessAllowed ? 'block' : 'none';\n",
              "    })();\n",
              "  </script>\n",
              "</div>\n",
              "\n",
              "    </div>\n",
              "  </div>\n"
            ],
            "application/vnd.google.colaboratory.intrinsic+json": {
              "type": "dataframe",
              "variable_name": "data",
              "summary": "{\n  \"name\": \"data\",\n  \"rows\": 39123,\n  \"fields\": [\n    {\n      \"column\": \"Product ID\",\n      \"properties\": {\n        \"dtype\": \"number\",\n        \"std\": 14347,\n        \"min\": 1,\n        \"max\": 49688,\n        \"num_unique_values\": 39123,\n        \"samples\": [\n          28491,\n          31810,\n          15439\n        ],\n        \"semantic_type\": \"\",\n        \"description\": \"\"\n      }\n    },\n    {\n      \"column\": \"Count\",\n      \"properties\": {\n        \"dtype\": \"number\",\n        \"std\": 222,\n        \"min\": 1,\n        \"max\": 18726,\n        \"num_unique_values\": 780,\n        \"samples\": [\n          637,\n          2234,\n          2858\n        ],\n        \"semantic_type\": \"\",\n        \"description\": \"\"\n      }\n    }\n  ]\n}"
            }
          },
          "metadata": {},
          "execution_count": 25
        }
      ]
    },
    {
      "cell_type": "code",
      "source": [
        "# top 10 ordered products\n",
        "import matplotlib.pyplot as plt\n",
        "top_products = data.sort_values(by=\"Count\", ascending=False).head(10)\n",
        "\n",
        "# plot the top 10 products\n",
        "plt.figure(figsize=(10, 6))\n",
        "plt.bar(top_products[\"Product ID\"].astype(str), top_products[\"Count\"], color='skyblue')\n",
        "plt.xlabel(\"Product ID\")\n",
        "plt.ylabel(\"Order Count\")\n",
        "plt.title(\"Top 10 Most Ordered Products\")\n",
        "plt.xticks(rotation=45)\n",
        "plt.tight_layout()\n",
        "plt.show()\n"
      ],
      "metadata": {
        "colab": {
          "base_uri": "https://localhost:8080/",
          "height": 607
        },
        "id": "R21O9W5XY1_0",
        "outputId": "3d491774-8bb6-4b77-e1d8-2415fc368127"
      },
      "execution_count": 26,
      "outputs": [
        {
          "output_type": "display_data",
          "data": {
            "text/plain": [
              "<Figure size 1000x600 with 1 Axes>"
            ],
            "image/png": "[encoded data removed]"
          },
          "metadata": {}
        }
      ]
    },
    {
      "cell_type": "code",
      "source": [
        "# least ordered products (oredered once or twice)\n",
        "import matplotlib.pyplot as plt\n",
        "least_ordered_counts = least_ordered_products[\"Count\"].value_counts().sort_index()\n",
        "\n",
        "# plotting the least ordered products\n",
        "plt.figure(figsize=(8, 5))\n",
        "plt.bar(least_ordered_counts.index.astype(str), least_ordered_counts.values, color='lightcoral', edgecolor='black')\n",
        "plt.xlabel(\"Order Count\")\n",
        "plt.ylabel(\"Number of Products\")\n",
        "plt.title(\"Number of Products Ordered 1 or 2 Times\")\n",
        "plt.xticks(rotation=0)\n",
        "plt.tight_layout()\n",
        "plt.show()\n"
      ],
      "metadata": {
        "colab": {
          "base_uri": "https://localhost:8080/",
          "height": 507
        },
        "id": "BuaqVrcrZNr8",
        "outputId": "4a3860b5-745a-426d-863d-38f9a4cd249c"
      },
      "execution_count": 28,
      "outputs": [
        {
          "output_type": "display_data",
          "data": {
            "text/plain": [
              "<Figure size 800x500 with 1 Axes>"
            ],
            "image/png": "[encoded data removed]"
          },
          "metadata": {}
        }
      ]
    },
    {
      "cell_type": "code",
      "source": [
        "# order counts to understand distribution\n",
        "\n",
        "plt.figure(figsize=(10,6))\n",
        "plt.hist(data[\"Count\"], bins=50 , color='orange' , edgecolor='black')\n",
        "plt.xlabel(\"Order Count\")\n",
        "plt.ylabel(\"Frequency\")\n",
        "plt.title(\"Distribution of Product Order Counts\")\n",
        "plt.yscale(\"log\")\n",
        "plt.tight_layout()\n",
        "plt.show()"
      ],
      "metadata": {
        "colab": {
          "base_uri": "https://localhost:8080/",
          "height": 607
        },
        "id": "w1k0hB5Qmi2x",
        "outputId": "cb52d1a5-a48b-4c43-cfaa-4d0fd00bcc68"
      },
      "execution_count": 31,
      "outputs": [
        {
          "output_type": "display_data",
          "data": {
            "text/plain": [
              "<Figure size 1000x600 with 1 Axes>"
            ],
            "image/png": "[encoded data removed]"
          },
          "metadata": {}
        }
      ]
    },
    {
      "cell_type": "markdown",
      "source": [
        "####Performance Comaprison:\n",
        "\n",
        "- Executing Speed: In our project , the task of counting product orders using both mapreduce and spark showed a notable difference in performance.\n",
        "\n",
        "Spark used in-memory processing which reduces time taken for operations that involve multiple stages. Spark processed the product order counts in a faction of the time compared to hadoop mapreduce.\n",
        "\n",
        "MapReduce is more memory-efficient for batch procesing since it does not require large amounts of memory to store intermediate results. it is more scalable for data that exceeds available memory.\n",
        "\n"
      ],
      "metadata": {
        "id": "HvdZrK7h4mN8"
      }
    }
  ]
}